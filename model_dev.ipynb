{
 "cells": [
  {
   "cell_type": "code",
   "execution_count": null,
   "metadata": {},
   "outputs": [],
   "source": [
    "from player.parse import *\n",
    "from player.state import *\n",
    "from player.model import *\n",
    "from player.ndlstm import separable_lstm\n",
    "from player.constants import MAX_BOARD_SIZE, FEATURE_SIZE, OUTPUT_SIZE\n",
    "\n",
    "\n",
    "import tensorflow as tf\n",
    "import tensorflow.contrib.slim as slim\n",
    "from tensorflow.python.ops import array_ops\n",
    "from tensorflow.python.ops import math_ops\n",
    "from tensorflow.contrib.rnn import GRUCell"
   ]
  },
  {
   "cell_type": "code",
   "execution_count": 2,
   "metadata": {},
   "outputs": [],
   "source": [
    "m = HaliteModel()"
   ]
  },
  {
   "cell_type": "code",
   "execution_count": 3,
   "metadata": {},
   "outputs": [],
   "source": [
    "train, test = train_test_split('../training_data/', 200, 0.2)\n",
    "dg = data_gen2(train[0], 3)"
   ]
  },
  {
   "cell_type": "code",
   "execution_count": 4,
   "metadata": {},
   "outputs": [
    {
     "data": {
      "text/plain": [
       "56"
      ]
     },
     "execution_count": 4,
     "metadata": {},
     "output_type": "execute_result"
    }
   ],
   "source": [
    "\n",
    "map_size"
   ]
  },
  {
   "cell_type": "code",
   "execution_count": 5,
   "metadata": {},
   "outputs": [],
   "source": [
    "states = parse_winner('../training_data/ts2018-halite-3-gold-replays_replay-20181021-025544+0000-1540090539-56-56-772361')"
   ]
  },
  {
   "cell_type": "code",
   "execution_count": 11,
   "metadata": {},
   "outputs": [
    {
     "name": "stdout",
     "output_type": "stream",
     "text": [
      "[(4, (14, 29))]\n",
      "{1: Ship(id=1, Position(14, 29), cargo=0 halite)}\n",
      "110\n",
      "[0.11  0.    0.    0.    0.    0.006]\n"
     ]
    }
   ],
   "source": [
    "import numpy as np\n",
    "i = 3\n",
    "print(states[i].get_ship_moves())\n",
    "print(states[i].ships)\n",
    "print(states[i].frame[14][29])\n",
    "features = states[i].get_feature_map()\n",
    "print(features[14][29])"
   ]
  },
  {
   "cell_type": "code",
   "execution_count": 15,
   "metadata": {},
   "outputs": [
    {
     "name": "stdout",
     "output_type": "stream",
     "text": [
      "[[ 0 43 28]\n",
      " [ 1 45 33]\n",
      " [ 2 46 32]]\n",
      "[0.081 0.029 0.    0.    0.    0.086]\n",
      "[0.015 0.    0.    0.    0.    0.086]\n",
      "[0.167 0.859 0.    0.    0.    0.086]\n"
     ]
    }
   ],
   "source": [
    "map_size, features, mask_slice, moves = next(dg)\n",
    "print(mask_slice)\n",
    "print(features[0,43,27,:])\n",
    "print(features[1,42,28,:])\n",
    "print(features[2,46,30,:])\n"
   ]
  },
  {
   "cell_type": "code",
   "execution_count": 37,
   "metadata": {},
   "outputs": [
    {
     "name": "stdout",
     "output_type": "stream",
     "text": [
      "[[ 0 43 28]\n",
      " [ 1 45 33]\n",
      " [ 2 46 32]]\n",
      "[0.054 0.005 0.    0.    0.    0.086]\n",
      "[0.058 0.873 0.    0.    0.    0.086]\n",
      "[0.182 0.964 0.    0.    0.    0.086]\n"
     ]
    },
    {
     "data": {
      "text/plain": [
       "[array([[1. , 1. , 1. , 1. , 0.1],\n",
       "        [1. , 1. , 1. , 1. , 0.1],\n",
       "        [1. , 1. , 1. , 1. , 0.1],\n",
       "        [1. , 1. , 1. , 1. , 0.1],\n",
       "        [1. , 1. , 1. , 1. , 0.1],\n",
       "        [1. , 1. , 1. , 1. , 0.1],\n",
       "        [1. , 1. , 1. , 1. , 0.1],\n",
       "        [1. , 1. , 1. , 1. , 0.1],\n",
       "        [1. , 1. , 1. , 1. , 0.1],\n",
       "        [1. , 1. , 1. , 1. , 0.1],\n",
       "        [1. , 1. , 1. , 1. , 0.1],\n",
       "        [1. , 1. , 1. , 1. , 0.1]], dtype=float32)]"
      ]
     },
     "execution_count": 37,
     "metadata": {},
     "output_type": "execute_result"
    }
   ],
   "source": [
    "print(mask_slice)\n",
    "print(features[0,43,28,:])\n",
    "print(features[1,45,33,:])\n",
    "print(features[2,46,32,:])\n",
    "\n",
    "sess = tf.Session()\n",
    "\n",
    "\n",
    "x = tf.placeholder(tf.float32, [5])\n",
    "s = tf.placeholder(tf.float32, [None, 5])\n",
    "y = tf.multiply(s, tf.broadcast_to(x, tf.shape(s)))\n",
    "tf.global_variables_initializer()\n",
    "\n",
    "sess.run([y], feed_dict = {x:[1,1,1,1,0.1], s:np.ones([12, 5])})"
   ]
  },
  {
   "cell_type": "code",
   "execution_count": 38,
   "metadata": {},
   "outputs": [],
   "source": [
    "def data_gen3(filename, batch_size):\n",
    "    feature_list = []\n",
    "    idx_list = []\n",
    "    move_list = []\n",
    "    included_states = []\n",
    "    states = parse_winner(filename)\n",
    "    first_state = states[0]\n",
    "    map_size = first_state.map_size\n",
    "    for i in np.random.permutation(len(states))[:20]:\n",
    "        s = states[i]\n",
    "        included_states.append(s)\n",
    "        feature_map = s.get_feature_map()\n",
    "        moves = s.get_ship_moves()\n",
    "        for j in range(len(moves)):\n",
    "            move_tuple = moves[j]\n",
    "            new_idx = [len(feature_list), move_tuple[1][0], move_tuple[1][1]]\n",
    "            feature_list.append(feature_map)\n",
    "            idx_list.append(new_idx)\n",
    "            move_list.append(move_tuple[0])\n",
    "            if len(feature_list) >= batch_size:\n",
    "                f = np.stack(feature_list, axis=0)\n",
    "                mi = np.stack(idx_list, axis=0)\n",
    "                mo = np.stack(move_list, axis=0)\n",
    "                yield map_size, f, mi, mo, included_states\n",
    "                feature_list = []\n",
    "                idx_list = []\n",
    "                move_list = []\n",
    "                included_states = []\n",
    "    if len(feature_list):\n",
    "        f = np.stack(feature_list, axis=0)\n",
    "        mi = np.stack(idx_list, axis=0)\n",
    "        mo = np.stack(move_list, axis=0)\n",
    "        yield map_size, f, mi, mo, included_states"
   ]
  },
  {
   "cell_type": "code",
   "execution_count": 39,
   "metadata": {},
   "outputs": [],
   "source": [
    "si, f, mi, mo, sts = next(data_gen3('../training_data/ts2018-halite-3-gold-replays_replay-20181021-025544+0000-1540090539-56-56-772361', 3))"
   ]
  },
  {
   "cell_type": "code",
   "execution_count": 46,
   "metadata": {},
   "outputs": [
    {
     "name": "stdout",
     "output_type": "stream",
     "text": [
      "[[ 0  7 40]\n",
      " [ 1 11 20]\n",
      " [ 2 18 32]]\n",
      "[3 4 0]\n",
      "{12: Ship(id=12, Position(7, 40), cargo=983 halite), 14: Ship(id=14, Position(11, 20), cargo=42 halite), 15: Ship(id=15, Position(18, 32), cargo=905 halite), 17: Ship(id=17, Position(4, 40), cargo=723 halite), 21: Ship(id=21, Position(55, 20), cargo=514 halite), 22: Ship(id=22, Position(6, 37), cargo=107 halite), 24: Ship(id=24, Position(11, 32), cargo=1 halite), 27: Ship(id=27, Position(16, 41), cargo=224 halite), 28: Ship(id=28, Position(10, 19), cargo=104 halite), 3: Ship(id=3, Position(16, 40), cargo=197 halite), 31: Ship(id=31, Position(8, 17), cargo=220 halite), 33: Ship(id=33, Position(6, 40), cargo=939 halite), 35: Ship(id=35, Position(1, 36), cargo=857 halite), 39: Ship(id=39, Position(6, 21), cargo=875 halite), 42: Ship(id=42, Position(0, 19), cargo=969 halite), 43: Ship(id=43, Position(2, 27), cargo=34 halite), 44: Ship(id=44, Position(52, 23), cargo=825 halite), 46: Ship(id=46, Position(2, 39), cargo=898 halite), 48: Ship(id=48, Position(14, 30), cargo=0 halite), 51: Ship(id=51, Position(15, 38), cargo=29 halite), 54: Ship(id=54, Position(3, 29), cargo=86 halite), 55: Ship(id=55, Position(12, 35), cargo=32 halite), 6: Ship(id=6, Position(52, 30), cargo=713 halite), 8: Ship(id=8, Position(24, 27), cargo=173 halite), 9: Ship(id=9, Position(1, 24), cargo=631 halite)}\n"
     ]
    }
   ],
   "source": [
    "print(mi)\n",
    "print(mo)\n",
    "print(sts[0].ships)"
   ]
  },
  {
   "cell_type": "code",
   "execution_count": 48,
   "metadata": {},
   "outputs": [
    {
     "name": "stdout",
     "output_type": "stream",
     "text": [
      "6\n",
      "9\n",
      "4\n"
     ]
    }
   ],
   "source": [
    "print(sts[0].frame[7][40])\n",
    "print(sts[0].frame[11][20])\n",
    "print(sts[0].frame[18][32])"
   ]
  },
  {
   "cell_type": "code",
   "execution_count": 49,
   "metadata": {},
   "outputs": [
    {
     "name": "stdout",
     "output_type": "stream",
     "text": [
      "[0.006 0.983 0.    0.    0.    0.894]\n",
      "[0.009 0.042 0.    0.    0.    0.894]\n",
      "[0.004 0.905 0.    0.    0.    0.894]\n"
     ]
    }
   ],
   "source": [
    "print(f[0,7,40,:])\n",
    "print(f[1,11,20,:])\n",
    "print(f[2,18,32,:])"
   ]
  },
  {
   "cell_type": "code",
   "execution_count": null,
   "metadata": {},
   "outputs": [],
   "source": []
  }
 ],
 "metadata": {
  "kernelspec": {
   "display_name": "Python 3",
   "language": "python",
   "name": "python3"
  },
  "language_info": {
   "codemirror_mode": {
    "name": "ipython",
    "version": 3
   },
   "file_extension": ".py",
   "mimetype": "text/x-python",
   "name": "python",
   "nbconvert_exporter": "python",
   "pygments_lexer": "ipython3",
   "version": "3.6.5"
  }
 },
 "nbformat": 4,
 "nbformat_minor": 2
}
