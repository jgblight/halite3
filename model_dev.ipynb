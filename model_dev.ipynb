{
 "cells": [
  {
   "cell_type": "code",
   "execution_count": null,
   "metadata": {},
   "outputs": [],
   "source": [
    "from bot.parse import *\n",
    "from bot.state import *\n",
    "from bot.model import *\n",
    "from bot.ndlstm import separable_lstm\n",
    "from bot.constants import MAX_BOARD_SIZE, FEATURE_SIZE, OUTPUT_SIZE\n",
    "\n",
    "\n",
    "import tensorflow as tf\n",
    "import tensorflow.contrib.slim as slim\n",
    "from tensorflow.python.ops import array_ops\n",
    "from tensorflow.python.ops import math_ops\n",
    "from tensorflow.contrib.rnn import GRUCell"
   ]
  },
  {
   "cell_type": "code",
   "execution_count": null,
   "metadata": {},
   "outputs": [],
   "source": []
  },
  {
   "cell_type": "code",
   "execution_count": null,
   "metadata": {},
   "outputs": [],
   "source": [
    "h = MAX_BOARD_SIZE\n",
    "w = MAX_BOARD_SIZE\n",
    "hidden_size = 7\n",
    "learning_rate = 0.001\n",
    "batch_size = 10\n",
    "split = 0.2\n",
    "train, test = train_test_split('training_data', 100, split)\n",
    "\n",
    "# Build network\n",
    "# Input placeholder\n",
    "x = tf.placeholder(tf.float32, [None, h, w, FEATURE_SIZE])\n",
    "# Output placeholder\n",
    "y = tf.placeholder(tf.int32, [None, h, w])\n",
    "mask = tf.placeholder(tf.int32, [None, 3])\n",
    "seq_lengths = tf.placeholder(tf.int32, [None])\n",
    "\n",
    "rnn_out = separable_lstm(GRUCell, hidden_size, x, seq_lengths)\n",
    "\n",
    "model_out = slim.fully_connected(inputs=rnn_out,\n",
    "                                 num_outputs=OUTPUT_SIZE,\n",
    "                                 activation_fn=None)\n",
    "\n",
    "predictions = tf.nn.top_k(model_out)\n",
    "logits = tf.gather_nd(model_out, mask)\n",
    "labels = tf.gather_nd(y, mask)\n",
    "xentropy = tf.nn.sparse_softmax_cross_entropy_with_logits(labels=labels, logits=logits)\n",
    "loss = tf.reduce_mean(xentropy)\n",
    "grad_update = tf.train.AdamOptimizer(learning_rate).minimize(loss)\n",
    "accuracy = tf.reduce_mean(tf.cast(tf.nn.in_top_k(logits, labels, 1), tf.float32))\n",
    "init = tf.global_variables_initializer()\n",
    "saver = tf.train.Saver()"
   ]
  },
  {
   "cell_type": "code",
   "execution_count": null,
   "metadata": {},
   "outputs": [],
   "source": [
    "split_1 = int(1/split)\n",
    "samples = 5\n",
    "with tf.Session() as sess:\n",
    "    init.run()\n",
    "    for i, training_file in enumerate(train):\n",
    "        for j in range(samples):\n",
    "            map_size, features, mask_idx, moves = data_gen(training_file, batch_size)\n",
    "            sequence_lengths = [ map_size for i in range(64*batch_size)]\n",
    "            feed_dict = {x: features, y:moves, mask: mask_idx, seq_lengths: sequence_lengths}\n",
    "            sess.run([loss, grad_update], feed_dict=feed_dict)\n",
    "            if not (i*j)%(split_1*samples):\n",
    "                print('Training Accuracy: {}'.format(accuracy.eval(feed_dict=feed_dict)))\n",
    "        if not i % split_1:\n",
    "            test_file = test[int(i*0.2)]\n",
    "            map_size, features, mask_idx, moves = data_gen(test_file, batch_size*15)\n",
    "            sequence_lengths = [ map_size for i in range(64*batch_size*15)]\n",
    "            feed_dict = {x: features, y:moves, mask: mask_idx, seq_lengths: sequence_lengths}\n",
    "            print('Test Accuracy: {}'.format(accuracy.eval(feed_dict=feed_dict)))\n",
    "            p = sess.run([predictions], feed_dict=feed_dict)\n",
    "            print(p[0][1].shape)\n",
    "            print(p[0][1])\n",
    "    saver.save(sess, './model.ckpt')\n",
    "            "
   ]
  },
  {
   "cell_type": "code",
   "execution_count": null,
   "metadata": {},
   "outputs": [],
   "source": []
  }
 ],
 "metadata": {
  "kernelspec": {
   "display_name": "Python 3",
   "language": "python",
   "name": "python3"
  },
  "language_info": {
   "codemirror_mode": {
    "name": "ipython",
    "version": 3
   },
   "file_extension": ".py",
   "mimetype": "text/x-python",
   "name": "python",
   "nbconvert_exporter": "python",
   "pygments_lexer": "ipython3",
   "version": "3.6.5"
  }
 },
 "nbformat": 4,
 "nbformat_minor": 2
}
